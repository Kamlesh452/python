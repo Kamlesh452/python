{
  "nbformat": 4,
  "nbformat_minor": 0,
  "metadata": {
    "colab": {
      "provenance": []
    },
    "kernelspec": {
      "name": "python3",
      "display_name": "Python 3"
    },
    "language_info": {
      "name": "python"
    }
  },
  "cells": [
    {
      "cell_type": "markdown",
      "source": [
        " 1. What is Python, and why is it popular ?\n",
        "    \n",
        "    >>Python is a high-level, interpreted programming language known for its simplicity, readability, and versatility. It was created by Guido van Rossum and first released in 1991. Python is widely used for various applications, including web development, data analysis, artificial intelligence, scientific computing, automation, and  more.\n",
        " 2. What is an interpreter in Python ?\n",
        "    >>An interpreter in Python is a program that executes Python code by directly converting the high-level code into machine-readable instructions, line by line, rather than compiling the entire codebase into a standalone executable. Python is an interpreted language, which means the interpreter is an essential component for running Python programs.\n",
        " 3. What are pre-defined keywords in Python?\n",
        "   >>Pre-defined keywords in Python are reserved words that have specific meanings and purposes in the language. They are part of the Python syntax and cannot be used as identifiers (e.g., variable names, function names) because they are integral to the language's structure.\n",
        " 4. Can keywords be used as variable names?\n",
        "   >>No, keywords cannot be used as variable names in Python. They are reserved words with predefined meanings in the Python language and are part of its syntax. Using a keyword as a variable name will result in a SyntaxError, as it would create confusion for the interpreter.\n",
        " 5. What is mutability in Python\n",
        "   >>Mutability in Python refers to the ability of an object to be modified after it has been created. If the object allows changes to its content or state, it is considered mutable. Conversely, if the object does not allow modifications and any change results in a new object, it is considered immutable.\n",
        " 6. Why are lists mutable, but tuples are immutable?\n",
        "    >>The difference in mutability between lists and tuples in Python stems from their design purposes and how they are implemented.\n",
        "\n",
        "  7. What is the difference between “==” and “is” operators in Python?\n",
        "     >>In Python, the == and is operators are used for comparison, but they serve different purposes.\n",
        "     a = [1, 2, 3]\n",
        "     b = [1, 2, 3]\n",
        "     print(a == b)  # Output: True (Their contents are the same)\n",
        "  8. What are logical operators in Python?\n",
        "     >>Logical operators in Python are used to combine conditional statements and evaluate Boolean expressions. These operators return a Boolean value (True or False) based on the logical relationship between the operands.\n",
        "  9. What is type casting in Python?\n",
        "     >>Type casting in Python refers to the process of converting one data type to another. It is used to explicitly change the type of a variable or expression to meet the requirements of a specific operation or context.\n",
        "  10. What is the difference between implicit and explicit type casting?\n",
        "      >>The difference between implicit and explicit type casting in Python lies in how and when the data type conversion occurs and who initiates the process (Python or the programmer).\n",
        "      x = 10      # Integer\n",
        "      y = 5.5     # Float\n",
        "      result = x + y  # Integer `x` is implicitly converted to float\n",
        "      print(result)   # Output: 15.5\n",
        "      print(type(result))  # Output: <class 'float'>\n",
        "\n",
        "\n",
        "\n"
      ],
      "metadata": {
        "id": "Tto0Kya6km0Y"
      }
    },
    {
      "cell_type": "code",
      "source": [
        "#Write a Python program to print \"Hello, World!\n",
        "print(\"hello , World\")"
      ],
      "metadata": {
        "colab": {
          "base_uri": "https://localhost:8080/"
        },
        "id": "xRkU2dGOB_cj",
        "outputId": "b12e4a26-4b7f-48c4-c3c9-924835cd2892"
      },
      "execution_count": null,
      "outputs": [
        {
          "output_type": "stream",
          "name": "stdout",
          "text": [
            "hello , World\n"
          ]
        }
      ]
    },
    {
      "cell_type": "code",
      "source": [
        "#Write a Python program that displays your name and age\n",
        "name = \"kamlesh\"\n",
        "age = 25\n",
        "print(\"name:\", name)\n",
        "print(\"age:\",age)"
      ],
      "metadata": {
        "colab": {
          "base_uri": "https://localhost:8080/"
        },
        "id": "DTNczudPCYk7",
        "outputId": "44ecd2e8-361a-485b-de92-fe0287730bf9"
      },
      "execution_count": null,
      "outputs": [
        {
          "output_type": "stream",
          "name": "stdout",
          "text": [
            "name: kamlesh\n",
            "age: 25\n"
          ]
        }
      ]
    },
    {
      "cell_type": "code",
      "source": [
        "#Write code to print all the pre-defined keywords in Python using the keyword library\n",
        "import keyword\n",
        "\n",
        "print(\"python keywords:\")\n",
        "for kw in keyword.kwlist:\n",
        "  print(kw)\n"
      ],
      "metadata": {
        "colab": {
          "base_uri": "https://localhost:8080/"
        },
        "id": "fwz_MUi7CYhb",
        "outputId": "b76419da-b809-42e3-cc11-81cc5659a3e6"
      },
      "execution_count": 1,
      "outputs": [
        {
          "output_type": "stream",
          "name": "stdout",
          "text": [
            "python keywords:\n",
            "False\n",
            "None\n",
            "True\n",
            "and\n",
            "as\n",
            "assert\n",
            "async\n",
            "await\n",
            "break\n",
            "class\n",
            "continue\n",
            "def\n",
            "del\n",
            "elif\n",
            "else\n",
            "except\n",
            "finally\n",
            "for\n",
            "from\n",
            "global\n",
            "if\n",
            "import\n",
            "in\n",
            "is\n",
            "lambda\n",
            "nonlocal\n",
            "not\n",
            "or\n",
            "pass\n",
            "raise\n",
            "return\n",
            "try\n",
            "while\n",
            "with\n",
            "yield\n"
          ]
        }
      ]
    },
    {
      "cell_type": "code",
      "source": [
        "#Write a program that checks if a given word is a Python keyword\n",
        "name = \"kamlesh\"\n",
        "if keyword.iskeyword(name):\n",
        "  print(name,\"is a python keyword\")\n",
        "  print(keyword.kwlist)\n",
        "else:\n",
        "  print(name,\"is not a python keyword\")"
      ],
      "metadata": {
        "colab": {
          "base_uri": "https://localhost:8080/"
        },
        "id": "7YV7AAuuizwd",
        "outputId": "884e8774-c4a0-49de-fe35-ba1e90501871"
      },
      "execution_count": 2,
      "outputs": [
        {
          "output_type": "stream",
          "name": "stdout",
          "text": [
            "kamlesh is not a python keyword\n"
          ]
        }
      ]
    },
    {
      "cell_type": "code",
      "source": [
        "'''Create a list and tuple in Python, and demonstrate how attempting to change an element works differently'''\n",
        "# Creating a list and a tuple\n",
        "my_list = [10, 20, 30]\n",
        "my_tuple = (10, 20, 30)\n",
        "\n",
        "# Attempting to change an element in the list\n",
        "print(\"Original list:\", my_list)\n",
        "my_list[1] = 25  # This is allowed because lists are mutable\n",
        "print(\"Modified list:\", my_list)\n",
        "\n",
        "# Attempting to change an element in the tuple\n",
        "print(\"\\nOriginal tuple:\", my_tuple)\n",
        "try:\n",
        "    my_tuple[1] = 25  # This will raise a TypeError because tuples are immutable\n",
        "except TypeError as e:\n",
        "    print(\"Error while modifying tuple:\", e)\n",
        "\n",
        "\n"
      ],
      "metadata": {
        "colab": {
          "base_uri": "https://localhost:8080/"
        },
        "id": "_T0r241tnE60",
        "outputId": "02bed9de-1117-4ca0-926a-a09f097fd50b"
      },
      "execution_count": 3,
      "outputs": [
        {
          "output_type": "stream",
          "name": "stdout",
          "text": [
            "Original list: [10, 20, 30]\n",
            "Modified list: [10, 25, 30]\n",
            "\n",
            "Original tuple: (10, 20, 30)\n",
            "Error while modifying tuple: 'tuple' object does not support item assignment\n"
          ]
        }
      ]
    },
    {
      "cell_type": "code",
      "source": [],
      "metadata": {
        "id": "AJ00PmblpG8J"
      },
      "execution_count": null,
      "outputs": []
    },
    {
      "cell_type": "markdown",
      "source": [],
      "metadata": {
        "id": "7uHqf7Zmt6sJ"
      }
    },
    {
      "cell_type": "markdown",
      "source": [
        "\n",
        "\n",
        "*   List item\n",
        "*   List item\n",
        "\n"
      ],
      "metadata": {
        "id": "mw7oyRXpkkZM"
      }
    }
  ]
}